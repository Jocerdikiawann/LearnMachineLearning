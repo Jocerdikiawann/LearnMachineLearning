{
  "nbformat": 4,
  "nbformat_minor": 0,
  "metadata": {
    "colab": {
      "name": "ImageRecognation.ipynb",
      "provenance": [],
      "collapsed_sections": [],
      "authorship_tag": "ABX9TyOqVuer9Rlud+m+Y6ckQWLL",
      "include_colab_link": true
    },
    "kernelspec": {
      "name": "python3",
      "display_name": "Python 3"
    },
    "language_info": {
      "name": "python"
    }
  },
  "cells": [
    {
      "cell_type": "markdown",
      "metadata": {
        "id": "view-in-github",
        "colab_type": "text"
      },
      "source": [
        "<a href=\"https://colab.research.google.com/github/Jocerdikiawann/LearnMachineLearning/blob/main/ImageRecognation.ipynb\" target=\"_parent\"><img src=\"https://colab.research.google.com/assets/colab-badge.svg\" alt=\"Open In Colab\"/></a>"
      ]
    },
    {
      "cell_type": "code",
      "execution_count": null,
      "metadata": {
        "colab": {
          "base_uri": "https://localhost:8080/"
        },
        "id": "xrlmX_iL4V4z",
        "outputId": "fde80f61-72d1-4fe3-ec4f-ec500ce6c082"
      },
      "outputs": [
        {
          "output_type": "stream",
          "name": "stdout",
          "text": [
            "2.8.2\n"
          ]
        }
      ],
      "source": [
        "import tensorflow as tf\n",
        "import os\n",
        "from keras.preprocessing.image import ImageDataGenerator\n",
        "from sklearn.model_selection import train_test_split\n",
        "import keras\n",
        "import cv2\n",
        "import numpy as np\n",
        "from PIL import Image\n",
        "\n",
        "print(tf.__version__)"
      ]
    },
    {
      "cell_type": "code",
      "source": [
        "base_dir = \"/content\"\n",
        "train_dir = os.path.join(base_dir,'src_train')\n",
        "validation_dir = os.path.join(base_dir,'src_val')"
      ],
      "metadata": {
        "id": "0847lRDIDL1v"
      },
      "execution_count": null,
      "outputs": []
    },
    {
      "cell_type": "code",
      "source": [
        "!rmdir /content/src_train/.ipynb_checkpoints\n",
        "!rmdir /content/src_val/.ipynb_checkpoints"
      ],
      "metadata": {
        "colab": {
          "base_uri": "https://localhost:8080/"
        },
        "id": "DBM56SsoK2Ra",
        "outputId": "036cabd0-e69a-4f57-9d30-fd31a8073a91"
      },
      "execution_count": null,
      "outputs": [
        {
          "output_type": "stream",
          "name": "stdout",
          "text": [
            "rmdir: failed to remove '/content/src_train/.ipynb_checkpoints': No such file or directory\n",
            "rmdir: failed to remove '/content/src_val/.ipynb_checkpoints': No such file or directory\n"
          ]
        }
      ]
    },
    {
      "cell_type": "code",
      "source": [
        "train_datagen = ImageDataGenerator(\n",
        "  rescale=1./255,\n",
        "  rotation_range=10,\n",
        "  horizontal_flip=True,\n",
        "  shear_range=0.2,\n",
        "    #  preprocessing_function = myFunc\n",
        ").flow_from_directory(\n",
        "    train_dir,\n",
        "    shuffle=True,\n",
        "    target_size=(64,64),\n",
        "    batch_size=4,\n",
        "    class_mode='categorical',\n",
        " \n",
        ")\n",
        "\n",
        "val_datagen = ImageDataGenerator(\n",
        "  rescale=1./255,\n",
        "  rotation_range=10,\n",
        "  horizontal_flip=True,\n",
        "  shear_range=0.2,\n",
        "      # preprocessing_function = myFunc\n",
        ").flow_from_directory(\n",
        "    validation_dir,\n",
        "    shuffle=True,\n",
        "    target_size=(64,64),\n",
        "    batch_size=4,\n",
        "    class_mode='categorical',\n",
        "\n",
        ")\n"
      ],
      "metadata": {
        "id": "HxYKXF_eDh8t",
        "colab": {
          "base_uri": "https://localhost:8080/"
        },
        "outputId": "622660af-e9c0-41ba-f9ca-fdcd5f038981"
      },
      "execution_count": null,
      "outputs": [
        {
          "output_type": "stream",
          "name": "stdout",
          "text": [
            "Found 233 images belonging to 3 classes.\n",
            "Found 72 images belonging to 3 classes.\n"
          ]
        }
      ]
    },
    {
      "cell_type": "code",
      "source": [
        "print(train_datagen.batch_size)"
      ],
      "metadata": {
        "colab": {
          "base_uri": "https://localhost:8080/"
        },
        "id": "o2M3goFcj4qe",
        "outputId": "cc55116d-25e4-4272-f3c3-9871535fa4ee"
      },
      "execution_count": null,
      "outputs": [
        {
          "output_type": "stream",
          "name": "stdout",
          "text": [
            "4\n"
          ]
        }
      ]
    },
    {
      "cell_type": "code",
      "source": [
        "model = keras.models.Sequential()\n",
        "\n",
        "model.add(keras.layers.Conv2D(32, (3,3), activation='relu', input_shape=(64, 64, 3)))\n",
        "model.add(keras.layers.MaxPooling2D(2, 2))\n",
        "model.add(keras.layers.Conv2D(64, (3,3), activation='relu'))\n",
        "model.add(keras.layers.MaxPooling2D(2,2))\n",
        "model.add(keras.layers.Conv2D(128, (3,3), activation='relu'))\n",
        "model.add(keras.layers.MaxPooling2D(2,2))\n",
        "model.add(keras.layers.Conv2D(512, (3,3), activation='relu'))\n",
        "model.add(keras.layers.MaxPooling2D(2,2))\n",
        "model.add(keras.layers.Flatten())\n",
        "model.add(keras.layers.Dense(512, activation='relu'))\n",
        "model.add(keras.layers.Dense(3, activation='sigmoid'))\n",
        "\n",
        "model.compile(loss=\"binary_crossentropy\",optimizer=tf.optimizers.Adam(),metrics=[\"accuracy\"])"
      ],
      "metadata": {
        "id": "pseMWslQFxYL"
      },
      "execution_count": null,
      "outputs": []
    },
    {
      "cell_type": "code",
      "source": [
        "model.summary()"
      ],
      "metadata": {
        "colab": {
          "base_uri": "https://localhost:8080/"
        },
        "id": "bY_JFMVNGF10",
        "outputId": "c181d9f1-4281-45ae-9737-0082e4427f29"
      },
      "execution_count": null,
      "outputs": [
        {
          "output_type": "stream",
          "name": "stdout",
          "text": [
            "Model: \"sequential_10\"\n",
            "_________________________________________________________________\n",
            " Layer (type)                Output Shape              Param #   \n",
            "=================================================================\n",
            " conv2d_37 (Conv2D)          (None, 62, 62, 32)        896       \n",
            "                                                                 \n",
            " max_pooling2d_36 (MaxPoolin  (None, 31, 31, 32)       0         \n",
            " g2D)                                                            \n",
            "                                                                 \n",
            " conv2d_38 (Conv2D)          (None, 29, 29, 64)        18496     \n",
            "                                                                 \n",
            " max_pooling2d_37 (MaxPoolin  (None, 14, 14, 64)       0         \n",
            " g2D)                                                            \n",
            "                                                                 \n",
            " conv2d_39 (Conv2D)          (None, 12, 12, 128)       73856     \n",
            "                                                                 \n",
            " max_pooling2d_38 (MaxPoolin  (None, 6, 6, 128)        0         \n",
            " g2D)                                                            \n",
            "                                                                 \n",
            " conv2d_40 (Conv2D)          (None, 4, 4, 512)         590336    \n",
            "                                                                 \n",
            " max_pooling2d_39 (MaxPoolin  (None, 2, 2, 512)        0         \n",
            " g2D)                                                            \n",
            "                                                                 \n",
            " flatten_9 (Flatten)         (None, 2048)              0         \n",
            "                                                                 \n",
            " dense_18 (Dense)            (None, 512)               1049088   \n",
            "                                                                 \n",
            " dense_19 (Dense)            (None, 1)                 513       \n",
            "                                                                 \n",
            "=================================================================\n",
            "Total params: 1,733,185\n",
            "Trainable params: 1,733,185\n",
            "Non-trainable params: 0\n",
            "_________________________________________________________________\n"
          ]
        }
      ]
    },
    {
      "cell_type": "code",
      "source": [
        "model.fit(\n",
        "      train_datagen,\n",
        "      # steps_per_epoch=4,  # berapa batch yang akan dieksekusi pada setiap epoch\n",
        "      epochs=50, # tambahkan epochs jika akurasi model belum optimal\n",
        "      validation_data=val_datagen, # menampilkan akurasi pengujian data validasi\n",
        "      # validation_steps=5,  # berapa batch yang akan dieksekusi pada setiap epoch,\n",
        ")"
      ],
      "metadata": {
        "colab": {
          "base_uri": "https://localhost:8080/"
        },
        "id": "tk5B-XfpTlKn",
        "outputId": "282e9f25-fb7d-4ccd-fc5c-dba7c5a5968b"
      },
      "execution_count": null,
      "outputs": [
        {
          "output_type": "stream",
          "name": "stdout",
          "text": [
            "Epoch 1/50\n",
            "59/59 [==============================] - 6s 83ms/step - loss: 0.6261 - accuracy: 0.4549 - val_loss: 0.6515 - val_accuracy: 0.3889\n",
            "Epoch 2/50\n",
            "59/59 [==============================] - 6s 95ms/step - loss: 0.6046 - accuracy: 0.5064 - val_loss: 0.6401 - val_accuracy: 0.3889\n",
            "Epoch 3/50\n",
            "59/59 [==============================] - 5s 78ms/step - loss: 0.6078 - accuracy: 0.5021 - val_loss: 0.6321 - val_accuracy: 0.4028\n",
            "Epoch 4/50\n",
            "59/59 [==============================] - 5s 78ms/step - loss: 0.5970 - accuracy: 0.5107 - val_loss: 0.6967 - val_accuracy: 0.4028\n",
            "Epoch 5/50\n",
            "59/59 [==============================] - 5s 78ms/step - loss: 0.5750 - accuracy: 0.5579 - val_loss: 0.6738 - val_accuracy: 0.4444\n",
            "Epoch 6/50\n",
            "59/59 [==============================] - 5s 78ms/step - loss: 0.5986 - accuracy: 0.5408 - val_loss: 0.7180 - val_accuracy: 0.3889\n",
            "Epoch 7/50\n",
            "59/59 [==============================] - 5s 77ms/step - loss: 0.5739 - accuracy: 0.5408 - val_loss: 0.5800 - val_accuracy: 0.4583\n",
            "Epoch 8/50\n",
            "59/59 [==============================] - 6s 97ms/step - loss: 0.5533 - accuracy: 0.5751 - val_loss: 0.5983 - val_accuracy: 0.5278\n",
            "Epoch 9/50\n",
            "59/59 [==============================] - 5s 78ms/step - loss: 0.5328 - accuracy: 0.6266 - val_loss: 0.5273 - val_accuracy: 0.6250\n",
            "Epoch 10/50\n",
            "59/59 [==============================] - 5s 78ms/step - loss: 0.5119 - accuracy: 0.6524 - val_loss: 0.5336 - val_accuracy: 0.5694\n",
            "Epoch 11/50\n",
            "59/59 [==============================] - 5s 79ms/step - loss: 0.5051 - accuracy: 0.6137 - val_loss: 0.5258 - val_accuracy: 0.6111\n",
            "Epoch 12/50\n",
            "59/59 [==============================] - 5s 78ms/step - loss: 0.4559 - accuracy: 0.7082 - val_loss: 0.4825 - val_accuracy: 0.6111\n",
            "Epoch 13/50\n",
            "59/59 [==============================] - 5s 77ms/step - loss: 0.4971 - accuracy: 0.6567 - val_loss: 0.5413 - val_accuracy: 0.5972\n",
            "Epoch 14/50\n",
            "59/59 [==============================] - 5s 78ms/step - loss: 0.4949 - accuracy: 0.6180 - val_loss: 0.5049 - val_accuracy: 0.6667\n",
            "Epoch 15/50\n",
            "59/59 [==============================] - 5s 78ms/step - loss: 0.4143 - accuracy: 0.7511 - val_loss: 0.5566 - val_accuracy: 0.5833\n",
            "Epoch 16/50\n",
            "59/59 [==============================] - 5s 79ms/step - loss: 0.4466 - accuracy: 0.6695 - val_loss: 0.5254 - val_accuracy: 0.6250\n",
            "Epoch 17/50\n",
            "59/59 [==============================] - 5s 77ms/step - loss: 0.4046 - accuracy: 0.7296 - val_loss: 0.4651 - val_accuracy: 0.6528\n",
            "Epoch 18/50\n",
            "59/59 [==============================] - 5s 78ms/step - loss: 0.3587 - accuracy: 0.7554 - val_loss: 0.4328 - val_accuracy: 0.6667\n",
            "Epoch 19/50\n",
            "59/59 [==============================] - 5s 78ms/step - loss: 0.3668 - accuracy: 0.7554 - val_loss: 0.4501 - val_accuracy: 0.6528\n",
            "Epoch 20/50\n",
            "59/59 [==============================] - 5s 78ms/step - loss: 0.3741 - accuracy: 0.7639 - val_loss: 0.5609 - val_accuracy: 0.6389\n",
            "Epoch 21/50\n",
            "59/59 [==============================] - 5s 77ms/step - loss: 0.3144 - accuracy: 0.8026 - val_loss: 0.5406 - val_accuracy: 0.6111\n",
            "Epoch 22/50\n",
            "59/59 [==============================] - 5s 77ms/step - loss: 0.2841 - accuracy: 0.8197 - val_loss: 0.4666 - val_accuracy: 0.6528\n",
            "Epoch 23/50\n",
            "59/59 [==============================] - 5s 78ms/step - loss: 0.3029 - accuracy: 0.8155 - val_loss: 0.5035 - val_accuracy: 0.5833\n",
            "Epoch 24/50\n",
            "59/59 [==============================] - 5s 78ms/step - loss: 0.2759 - accuracy: 0.8283 - val_loss: 0.5406 - val_accuracy: 0.6806\n",
            "Epoch 25/50\n",
            "59/59 [==============================] - 5s 78ms/step - loss: 0.2999 - accuracy: 0.8112 - val_loss: 0.5544 - val_accuracy: 0.6250\n",
            "Epoch 26/50\n",
            "59/59 [==============================] - 5s 78ms/step - loss: 0.2070 - accuracy: 0.8927 - val_loss: 0.5893 - val_accuracy: 0.6528\n",
            "Epoch 27/50\n",
            "59/59 [==============================] - 5s 78ms/step - loss: 0.1964 - accuracy: 0.8670 - val_loss: 0.6984 - val_accuracy: 0.6111\n",
            "Epoch 28/50\n",
            "59/59 [==============================] - 5s 78ms/step - loss: 0.2083 - accuracy: 0.8712 - val_loss: 0.7038 - val_accuracy: 0.6528\n",
            "Epoch 29/50\n",
            "59/59 [==============================] - 5s 78ms/step - loss: 0.1697 - accuracy: 0.8884 - val_loss: 0.9855 - val_accuracy: 0.6111\n",
            "Epoch 30/50\n",
            "59/59 [==============================] - 5s 83ms/step - loss: 0.1476 - accuracy: 0.9099 - val_loss: 0.8267 - val_accuracy: 0.6250\n",
            "Epoch 31/50\n",
            "59/59 [==============================] - 6s 94ms/step - loss: 0.1381 - accuracy: 0.9013 - val_loss: 0.8964 - val_accuracy: 0.5972\n",
            "Epoch 32/50\n",
            "59/59 [==============================] - 5s 80ms/step - loss: 0.2011 - accuracy: 0.9142 - val_loss: 0.5435 - val_accuracy: 0.6250\n",
            "Epoch 33/50\n",
            "59/59 [==============================] - 5s 79ms/step - loss: 0.2589 - accuracy: 0.8755 - val_loss: 0.5589 - val_accuracy: 0.6667\n",
            "Epoch 34/50\n",
            "59/59 [==============================] - 5s 79ms/step - loss: 0.0899 - accuracy: 0.9614 - val_loss: 0.8736 - val_accuracy: 0.6250\n",
            "Epoch 35/50\n",
            "59/59 [==============================] - 5s 79ms/step - loss: 0.1542 - accuracy: 0.9142 - val_loss: 0.7331 - val_accuracy: 0.6111\n",
            "Epoch 36/50\n",
            "59/59 [==============================] - 5s 78ms/step - loss: 0.0807 - accuracy: 0.9871 - val_loss: 0.6456 - val_accuracy: 0.7083\n",
            "Epoch 37/50\n",
            "59/59 [==============================] - 5s 77ms/step - loss: 0.0591 - accuracy: 0.9700 - val_loss: 0.6664 - val_accuracy: 0.7083\n",
            "Epoch 38/50\n",
            "59/59 [==============================] - 5s 78ms/step - loss: 0.0593 - accuracy: 0.9700 - val_loss: 1.0062 - val_accuracy: 0.6806\n",
            "Epoch 39/50\n",
            "59/59 [==============================] - 5s 79ms/step - loss: 0.0627 - accuracy: 0.9700 - val_loss: 0.9830 - val_accuracy: 0.6528\n",
            "Epoch 40/50\n",
            "59/59 [==============================] - 5s 78ms/step - loss: 0.0404 - accuracy: 0.9785 - val_loss: 1.1998 - val_accuracy: 0.6667\n",
            "Epoch 41/50\n",
            "59/59 [==============================] - 5s 84ms/step - loss: 0.0973 - accuracy: 0.9571 - val_loss: 0.6863 - val_accuracy: 0.6944\n",
            "Epoch 42/50\n",
            "59/59 [==============================] - 5s 79ms/step - loss: 0.1018 - accuracy: 0.9528 - val_loss: 1.2590 - val_accuracy: 0.6944\n",
            "Epoch 43/50\n",
            "59/59 [==============================] - 5s 80ms/step - loss: 0.1408 - accuracy: 0.9442 - val_loss: 0.9138 - val_accuracy: 0.6667\n",
            "Epoch 44/50\n",
            "59/59 [==============================] - 5s 79ms/step - loss: 0.0200 - accuracy: 0.9957 - val_loss: 1.0800 - val_accuracy: 0.6250\n",
            "Epoch 45/50\n",
            "59/59 [==============================] - 5s 79ms/step - loss: 0.0291 - accuracy: 0.9828 - val_loss: 0.8991 - val_accuracy: 0.6944\n",
            "59/59 [==============================] - 5s 77ms/step - loss: 0.0353 - accuracy: 0.9871 - val_loss: 0.7396 - val_accuracy: 0.6806\n",
            "Epoch 47/50\n",
            "59/59 [==============================] - 5s 78ms/step - loss: 0.0670 - accuracy: 0.9700 - val_loss: 0.9084 - val_accuracy: 0.5972\n",
            "Epoch 48/50\n",
            "59/59 [==============================] - 5s 78ms/step - loss: 0.0833 - accuracy: 0.9657 - val_loss: 1.1470 - val_accuracy: 0.6111\n",
            "Epoch 49/50\n",
            "59/59 [==============================] - 5s 79ms/step - loss: 0.0714 - accuracy: 0.9528 - val_loss: 0.7726 - val_accuracy: 0.6944\n",
            "Epoch 50/50\n",
            "59/59 [==============================] - 5s 78ms/step - loss: 0.0153 - accuracy: 1.0000 - val_loss: 0.8334 - val_accuracy: 0.7083\n"
          ]
        },
        {
          "output_type": "execute_result",
          "data": {
            "text/plain": [
              "<keras.callbacks.History at 0x7fa9597436d0>"
            ]
          },
          "metadata": {},
          "execution_count": 62
        }
      ]
    },
    {
      "cell_type": "code",
      "source": [
        "train_datagen.class_indices"
      ],
      "metadata": {
        "colab": {
          "base_uri": "https://localhost:8080/"
        },
        "id": "uwv0ybMfKnnK",
        "outputId": "1a5b8fd4-85ad-41e5-f5b6-06c749e38487"
      },
      "execution_count": null,
      "outputs": [
        {
          "output_type": "execute_result",
          "data": {
            "text/plain": [
              "{'april': 0, 'fajar': 1, 'helmi': 2}"
            ]
          },
          "metadata": {},
          "execution_count": 63
        }
      ]
    },
    {
      "cell_type": "code",
      "source": [
        "import numpy as np\n",
        "from google.colab import files\n",
        "from keras.preprocessing import image\n",
        "import matplotlib.pyplot as plt\n",
        "import matplotlib.image as mpimg\n",
        "%matplotlib inline\n",
        " \n",
        "uploaded = files.upload()\n",
        " \n",
        "for fn in uploaded.keys():\n",
        " \n",
        "  # predicting images\n",
        "  path = fn\n",
        "  img = image.load_img(path, target_size=(64,64))\n",
        " \n",
        "  imgplot = plt.imshow(img)\n",
        "  x = image.img_to_array(img)\n",
        "  x = np.expand_dims(x, axis=0)\n",
        "  images = np.vstack([x])\n",
        " \n",
        "  classes = model.predict(images, batch_size=4)  \n",
        "  print(classes)"
      ],
      "metadata": {
        "colab": {
          "resources": {
            "http://localhost:8080/nbextensions/google.colab/files.js": {
              "data": "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",
              "ok": true,
              "headers": [
                [
                  "content-type",
                  "application/javascript"
                ]
              ],
              "status": 200,
              "status_text": ""
            }
          },
          "base_uri": "https://localhost:8080/",
          "height": 343
        },
        "id": "RDN97_o0I_Z1",
        "outputId": "f3b14a21-a2f9-4a7b-8119-29fc8ec4b073"
      },
      "execution_count": null,
      "outputs": [
        {
          "output_type": "display_data",
          "data": {
            "text/plain": [
              "<IPython.core.display.HTML object>"
            ],
            "text/html": [
              "\n",
              "     <input type=\"file\" id=\"files-f4921844-bf6a-4b54-b799-d763d807323f\" name=\"files[]\" multiple disabled\n",
              "        style=\"border:none\" />\n",
              "     <output id=\"result-f4921844-bf6a-4b54-b799-d763d807323f\">\n",
              "      Upload widget is only available when the cell has been executed in the\n",
              "      current browser session. Please rerun this cell to enable.\n",
              "      </output>\n",
              "      <script src=\"/nbextensions/google.colab/files.js\"></script> "
            ]
          },
          "metadata": {}
        },
        {
          "output_type": "stream",
          "name": "stdout",
          "text": [
            "Saving OIP--9CxJkCleiNXywWpQhEUDAHaE7.jpeg to OIP--9CxJkCleiNXywWpQhEUDAHaE7.jpeg\n",
            "[[0. 1. 0.]]\n"
          ]
        },
        {
          "output_type": "display_data",
          "data": {
            "text/plain": [
              "<Figure size 432x288 with 1 Axes>"
            ],
            "image/png": "[encoded data removed]"
          },
          "metadata": {
            "needs_background": "light"
          }
        }
      ]
    }
  ]
}